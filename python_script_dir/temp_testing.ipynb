{
 "cells": [
  {
   "cell_type": "code",
   "execution_count": 1,
   "id": "93e6c3ca-7f87-4648-b87b-94af181ceade",
   "metadata": {},
   "outputs": [],
   "source": [
    "import numpy as np\n",
    "import pandas as pd"
   ]
  },
  {
   "cell_type": "code",
   "execution_count": 2,
   "id": "4cd9ea0b-d83c-4673-ad04-c6f4e8a69131",
   "metadata": {},
   "outputs": [],
   "source": [
    "def date_to_icd_type(date: pd.Timestamp) -> str:\n",
    "    icd = \"\"\n",
    "    \n",
    "    if date >= pd.Timestamp(1997, 01, 01):\n",
    "        icd = \"icd10\"\n",
    "    if date >= pd.Timestamp(1997, 01, 01):\n",
    "        icd = \"icd10\"\n",
    "    if date >= pd.Timestamp(1997, 01, 01):\n",
    "        icd = \"icd10\"\n",
    "    if date >= pd.Timestamp(1997, 01, 01):\n",
    "        icd = \"icd10\"\n",
    "\n",
    "    return icd\n",
    "        "
   ]
  },
  {
   "cell_type": "code",
   "execution_count": 3,
   "id": "cd583496-d5e6-4ad8-a197-e0a4c22baa13",
   "metadata": {},
   "outputs": [
    {
     "name": "stdout",
     "output_type": "stream",
     "text": [
      "\n",
      "Here is a list of the Python keywords.  Enter any keyword to get more help.\n",
      "\n",
      "False               class               from                or\n",
      "None                continue            global              pass\n",
      "True                def                 if                  raise\n",
      "and                 del                 import              return\n",
      "as                  elif                in                  try\n",
      "assert              else                is                  while\n",
      "async               except              lambda              with\n",
      "await               finally             nonlocal            yield\n",
      "break               for                 not                 \n",
      "\n"
     ]
    }
   ],
   "source": [
    "help(\"keywords\")"
   ]
  }
 ],
 "metadata": {
  "kernelspec": {
   "display_name": "Python 3 (ipykernel)",
   "language": "python",
   "name": "python3"
  },
  "language_info": {
   "codemirror_mode": {
    "name": "ipython",
    "version": 3
   },
   "file_extension": ".py",
   "mimetype": "text/x-python",
   "name": "python",
   "nbconvert_exporter": "python",
   "pygments_lexer": "ipython3",
   "version": "3.11.5"
  }
 },
 "nbformat": 4,
 "nbformat_minor": 5
}
